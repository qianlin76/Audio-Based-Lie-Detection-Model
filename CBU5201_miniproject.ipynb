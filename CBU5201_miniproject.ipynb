{
 "cells": [
  {
   "cell_type": "markdown",
   "metadata": {},
   "source": [
    "# Audio-Based Lie Detection Model"
   ]
  },
  {
   "cell_type": "markdown",
   "metadata": {},
   "source": [
    "# 1 Author\n",
    "\n",
    " **Student Name**: Yilin Qian\n",
    " **Student ID**: 2022213075  "
   ]
  },
  {
   "cell_type": "markdown",
   "metadata": {},
   "source": [
    "# 2 Problem Formulation\n",
    "\n",
    "This project aims to detect lies based on audio analysis using machine learning models. This is significant in fields like security and forensics, as automated and efficient lie detection can improve accuracy and efficiency.\n",
    "\n",
    "Specifically, our goal is to develop a model that can analyze audio files and accurately determine whether the speaker is lying. By extracting audio features such as Mel spectrograms, we use Support Vector Machine (SVM) and Random Forest models for training and evaluation. The performance of the models is evaluated using metrics like accuracy and confusion matrix.\n",
    "\n",
    "Our methodology includes the following steps:\n",
    "\n",
    "Data Preprocessing: Loading and cleaning audio data.\n",
    "Feature Extraction: Extracting features such as Mel spectrograms from audio data.\n",
    "Model Training: Training SVM and Random Forest models using the extracted features.\n",
    "Model Evaluation: Evaluating the models' performance using a test set.\n",
    "Through these steps, we aim to achieve efficient and accurate lie detection, providing valuable technological support for related fields."
   ]
  },
  {
   "cell_type": "markdown",
   "metadata": {},
   "source": [
    "# 3 Methodology\n",
    "\n",
    "The methodology of this project includes the following key steps:\n",
    "\n",
    "1. Data Preprocessing\n",
    "Data preprocessing is the foundation of any machine learning project. It ensures the quality and consistency of the input data. The specific steps are as follows:\n",
    "\n",
    "Loading Data: Load audio file paths and labels from a CSV file.\n",
    "Label Encoding: Convert the audio file labels (such as language and story type) into numerical form so that the model can process them.\n",
    "Feature Extraction: Extract Mel spectrogram features from the raw audio data. These features capture the time and frequency information of the audio signal and are commonly used in audio analysis.\n",
    "Data Augmentation: Enhance the data by adding noise and pitch shifting, which helps the model generalize better to unseen data.\n",
    "2. Feature Extraction\n",
    "Feature extraction involves converting raw data into a format that the model can understand and process. In this project, we use Mel spectrograms as the main features. The specific steps are:\n",
    "\n",
    "Loading Audio Files: Use the Librosa library to load audio files.\n",
    "Calculating Mel Spectrograms: Convert the audio signal into Mel spectrograms and calculate their mean to obtain fixed-length feature vectors.\n",
    "Data Augmentation: Generate multiple variations of each audio file through data augmentation and extract their features.\n",
    "3. Model Training\n",
    "Model training involves using the preprocessed data to train machine learning models for lie detection. In this project, we use Support Vector Machine (SVM) and Random Forest models. The specific steps are:\n",
    "\n",
    "Data Splitting: Split the dataset into training and testing sets to evaluate model performance.\n",
    "Feature Standardization: Standardize the features using a standard scaler to ensure that different features have the same scale.\n",
    "Class Weight Calculation: Calculate the weight of each class to address class imbalance, ensuring that the model treats all classes fairly.\n",
    "Training Models: Train the SVM and Random Forest models using the training set.\n",
    "4. Model Evaluation\n",
    "Model evaluation involves validating the model's performance on unseen data. In this project, we use classification reports and confusion matrices to evaluate model performance. The specific steps are:\n",
    "\n",
    "Predicting Test Set: Use the trained models to predict the test set.\n",
    "Generating Classification Reports: Compute and output classification reports, including accuracy, precision, recall, and F1 score.\n",
    "Plotting Confusion Matrices: Generate and visualize confusion matrices to show the model's prediction performance for different classes.\n",
    "5. Ensemble Learning\n",
    "Ensemble learning combines the predictions of multiple models to improve overall performance. In this project, we use a Voting Classifier to combine the predictions of the SVM and Random Forest models. The specific steps are:\n",
    "\n",
    "Creating Ensemble Model: Use a Voting Classifier to combine the SVM and Random Forest models.\n",
    "Training Ensemble Model: Train the ensemble model using the training set.\n",
    "Evaluating Ensemble Model: Evaluate the performance of the ensemble model using the test set, generating classification reports and confusion matrices.\n",
    "Through the above methodology, we aim to achieve an efficient and accurate lie detection model, providing valuable technological support for related fields."
   ]
  },
  {
   "cell_type": "markdown",
   "metadata": {},
   "source": [
    "# 4 Implemented ML Prediction Pipelines\n",
    "We explore the following ML prediction pipelines: Data Input (audio files) -> Feature Extraction (Mel spectrograms) -> Model Training (SVM and Random Forest) -> Model Evaluation (accuracy, confusion matrix).\n",
    "\n",
    "# 4.1 Transformation Stage\n",
    "Feature extraction involves converting raw audio data into Mel spectrograms, which helps the model better understand and process the audio data."
   ]
  },
  {
   "cell_type": "code",
   "execution_count": 2,
   "metadata": {},
   "outputs": [],
   "source": [
    "import pandas as pd\n",
    "import numpy as np\n",
    "import librosa\n",
    "import matplotlib.pyplot as plt\n",
    "import seaborn as sns\n",
    "from sklearn.preprocessing import LabelEncoder, StandardScaler\n",
    "from sklearn.model_selection import train_test_split\n",
    "\n",
    "# Load CSV file\n",
    "csv_file = 'E:/python/miniProject/CBU0521DD_stories_attributes.csv'\n",
    "df = pd.read_csv(csv_file)\n",
    "\n",
    "# Extract audio file paths and labels\n",
    "audio_paths = df['filename'].values\n",
    "languages = df['Language'].values\n",
    "labels = df['Story_type'].values\n",
    "\n",
    "# Encode labels and languages\n",
    "label_encoder = LabelEncoder()\n",
    "labels = label_encoder.fit_transform(labels)\n",
    "language_encoder = LabelEncoder()\n",
    "languages = language_encoder.fit_transform(languages)\n",
    "\n",
    "# Feature extraction: Mel spectrogram\n",
    "def extract_features(audio_path):\n",
    "    y, sr = librosa.load(audio_path, sr=None)\n",
    "    mel = librosa.feature.melspectrogram(y=y, sr=sr, n_mels=128)\n",
    "    mel = np.mean(mel.T, axis=0)\n",
    "    return mel\n",
    "\n",
    "# Data augmentation: Add noise and pitch shift\n",
    "def augment_data(y, sr):\n",
    "    noise = np.random.randn(len(y))\n",
    "    y_noise = y + 0.005 * noise\n",
    "    y_shift = librosa.effects.pitch_shift(y, sr=sr, n_steps=4)\n",
    "    return [y, y_noise, y_shift]\n",
    "\n",
    "# Extract features and augment data\n",
    "features = []\n",
    "for path in audio_paths:\n",
    "    y, sr = librosa.load(f'E:/python/miniProject/CBU0521DD_stories/{path}', sr=None)\n",
    "    augmented = augment_data(y, sr)\n",
    "    for aug in augmented:\n",
    "        mel = librosa.feature.melspectrogram(y=aug, sr=sr, n_mels=128)\n",
    "        mel = np.mean(mel.T, axis=0)\n",
    "        features.append(mel)\n",
    "\n",
    "# Convert features and labels to numpy arrays\n",
    "features = np.array(features)\n",
    "labels = np.repeat(labels, 3)  # Repeat labels due to augmentation\n",
    "languages = np.repeat(languages, 3)\n",
    "\n",
    "# Add language features\n",
    "features_with_language = np.hstack((features, languages.reshape(-1, 1)))\n",
    "\n",
    "# Standardize features\n",
    "scaler = StandardScaler()\n",
    "features_with_language = scaler.fit_transform(features_with_language)\n",
    "\n",
    "# Split data into training and testing sets\n",
    "X_train, X_test, y_train, y_test = train_test_split(features_with_language, labels, test_size=0.2, random_state=42)"
   ]
  },
  {
   "cell_type": "markdown",
   "metadata": {},
   "source": [
    "# 4.2 Model Stage\n",
    "We used Support Vector Machine (SVM) and Random Forest models due to their superior performance in handling classification problems."
   ]
  },
  {
   "cell_type": "code",
   "execution_count": 3,
   "metadata": {},
   "outputs": [
    {
     "name": "stdout",
     "output_type": "stream",
     "text": [
      "SVM Classification Report:\n",
      "              precision    recall  f1-score   support\n",
      "\n",
      "           0       0.60      0.81      0.69        32\n",
      "           1       0.65      0.39      0.49        28\n",
      "\n",
      "    accuracy                           0.62        60\n",
      "   macro avg       0.63      0.60      0.59        60\n",
      "weighted avg       0.62      0.62      0.60        60\n",
      "\n",
      "SVM Confusion Matrix:\n",
      "[[26  6]\n",
      " [17 11]]\n"
     ]
    },
    {
     "data": {
      "image/png": "[encoded data removed]",
      "text/plain": [
       "<Figure size 1000x700 with 2 Axes>"
      ]
     },
     "metadata": {},
     "output_type": "display_data"
    },
    {
     "name": "stdout",
     "output_type": "stream",
     "text": [
      "Random Forest Classification Report:\n",
      "              precision    recall  f1-score   support\n",
      "\n",
      "           0       0.83      0.75      0.79        32\n",
      "           1       0.74      0.82      0.78        28\n",
      "\n",
      "    accuracy                           0.78        60\n",
      "   macro avg       0.78      0.79      0.78        60\n",
      "weighted avg       0.79      0.78      0.78        60\n",
      "\n",
      "Random Forest Confusion Matrix:\n",
      "[[24  8]\n",
      " [ 5 23]]\n"
     ]
    },
    {
     "data": {
      "image/png": "[encoded data removed]",
      "text/plain": [
       "<Figure size 1000x700 with 2 Axes>"
      ]
     },
     "metadata": {},
     "output_type": "display_data"
    }
   ],
   "source": [
    "from sklearn.svm import SVC\n",
    "from sklearn.ensemble import RandomForestClassifier\n",
    "from sklearn.metrics import classification_report, confusion_matrix\n",
    "from sklearn.utils import class_weight\n",
    "\n",
    "# Compute class weights\n",
    "class_weights = class_weight.compute_class_weight('balanced', classes=np.unique(labels), y=labels)\n",
    "class_weights = dict(enumerate(class_weights))\n",
    "\n",
    "# SVM model\n",
    "svm_model = SVC(kernel='linear', class_weight=class_weights, random_state=42)\n",
    "svm_model.fit(X_train, y_train)\n",
    "y_pred_svm = svm_model.predict(X_test)\n",
    "\n",
    "print('SVM Classification Report:')\n",
    "print(classification_report(y_test, y_pred_svm))\n",
    "print('SVM Confusion Matrix:')\n",
    "print(confusion_matrix(y_test, y_pred_svm))\n",
    "\n",
    "# Visualize SVM Confusion Matrix\n",
    "plt.figure(figsize=(10, 7))\n",
    "sns.heatmap(confusion_matrix(y_test, y_pred_svm), annot=True, fmt=\"d\", cmap=\"Blues\")\n",
    "plt.title('SVM Confusion Matrix')\n",
    "plt.xlabel('Predicted')\n",
    "plt.ylabel('Actual')\n",
    "plt.show()\n",
    "\n",
    "# Random Forest model\n",
    "rf_model = RandomForestClassifier(class_weight=class_weights, random_state=42)\n",
    "rf_model.fit(X_train, y_train)\n",
    "y_pred_rf = rf_model.predict(X_test)\n",
    "\n",
    "print('Random Forest Classification Report:')\n",
    "print(classification_report(y_test, y_pred_rf))\n",
    "print('Random Forest Confusion Matrix:')\n",
    "print(confusion_matrix(y_test, y_pred_rf))\n",
    "\n",
    "# Visualize Random Forest Confusion Matrix\n",
    "plt.figure(figsize=(10, 7))\n",
    "sns.heatmap(confusion_matrix(y_test, y_pred_rf), annot=True, fmt=\"d\", cmap=\"Blues\")\n",
    "plt.title('Random Forest Confusion Matrix')\n",
    "plt.xlabel('Predicted')\n",
    "plt.ylabel('Actual')\n",
    "plt.show()"
   ]
  },
  {
   "cell_type": "markdown",
   "metadata": {},
   "source": [
    "# 4.3 Ensemble Stage\n",
    "We did not use ensemble methods in this project, but future work may consider using ensemble learning methods like XGBoost to improve performance.\n"
   ]
  },
  {
   "cell_type": "code",
   "execution_count": 4,
   "metadata": {},
   "outputs": [
    {
     "name": "stdout",
     "output_type": "stream",
     "text": [
      "Ensemble Model Classification Report:\n",
      "              precision    recall  f1-score   support\n",
      "\n",
      "           0       0.62      0.94      0.75        32\n",
      "           1       0.83      0.36      0.50        28\n",
      "\n",
      "    accuracy                           0.67        60\n",
      "   macro avg       0.73      0.65      0.62        60\n",
      "weighted avg       0.72      0.67      0.63        60\n",
      "\n",
      "Ensemble Model Confusion Matrix:\n",
      "[[30  2]\n",
      " [18 10]]\n"
     ]
    },
    {
     "data": {
      "image/png": "[encoded data removed]",
      "text/plain": [
       "<Figure size 1000x700 with 2 Axes>"
      ]
     },
     "metadata": {},
     "output_type": "display_data"
    }
   ],
   "source": [
    "from sklearn.ensemble import VotingClassifier\n",
    "\n",
    "# Create the ensemble model\n",
    "ensemble_model = VotingClassifier(estimators=[\n",
    "    ('svm', svm_model),\n",
    "    ('rf', rf_model)\n",
    "], voting='hard')\n",
    "\n",
    "# Train the ensemble model\n",
    "ensemble_model.fit(X_train, y_train)\n",
    "\n",
    "# Predict with the ensemble model\n",
    "y_pred_ensemble = ensemble_model.predict(X_test)\n",
    "\n",
    "print('Ensemble Model Classification Report:')\n",
    "print(classification_report(y_test, y_pred_ensemble))\n",
    "print('Ensemble Model Confusion Matrix:')\n",
    "print(confusion_matrix(y_test, y_pred_ensemble))\n",
    "\n",
    "# Visualize Ensemble Model Confusion Matrix\n",
    "plt.figure(figsize=(10, 7))\n",
    "sns.heatmap(confusion_matrix(y_test, y_pred_ensemble), annot=True, fmt=\"d\", cmap=\"Blues\")\n",
    "plt.title('Ensemble Model Confusion Matrix')\n",
    "plt.xlabel('Predicted')\n",
    "plt.ylabel('Actual')\n",
    "plt.show()"
   ]
  },
  {
   "cell_type": "markdown",
   "metadata": {},
   "source": [
    "# 5 Dataset\n",
    "I used the original dataset without adding any additional datasets. I split the dataset into 80% for training and 20% for testing, and performed the training and testing."
   ]
  },
  {
   "cell_type": "markdown",
   "metadata": {},
   "source": [
    "# 6 Experiments and Results\n",
    "Support Vector Machine (SVM) Model\n",
    "Classification Report:\n",
    "\n",
    "Precision: Class 0 is 0.60, Class 1 is 0.65.\n",
    "Recall: Class 0 is 0.81, Class 1 is 0.39.\n",
    "F1-score: Class 0 is 0.69, Class 1 is 0.49.\n",
    "Support: Class 0 has 32 samples, Class 1 has 28 samples.\n",
    "Accuracy: 0.62.\n",
    "Confusion Matrix:\n",
    "\n",
    "Class 0: 26 correctly classified, 6 misclassified as Class 1.\n",
    "Class 1: 11 correctly classified, 17 misclassified as Class 0.\n",
    "Random Forest Model\n",
    "Classification Report:\n",
    "\n",
    "Precision: Class 0 is 0.83, Class 1 is 0.74.\n",
    "Recall: Class 0 is 0.75, Class 1 is 0.82.\n",
    "F1-score: Class 0 is 0.79, Class 1 is 0.78.\n",
    "Support: Class 0 has 32 samples, Class 1 has 28 samples.\n",
    "Accuracy: 0.78.\n",
    "Confusion Matrix:\n",
    "\n",
    "Class 0: 24 correctly classified, 8 misclassified as Class 1.\n",
    "Class 1: 23 correctly classified, 5 misclassified as Class 0.\n",
    "Ensemble Model\n",
    "Classification Report:\n",
    "\n",
    "Precision: Class 0 is 0.62, Class 1 is 0.83.\n",
    "Recall: Class 0 is 0.94, Class 1 is 0.36.\n",
    "F1-score: Class 0 is 0.75, Class 1 is 0.50.\n",
    "Support: Class 0 has 32 samples, Class 1 has 28 samples.\n",
    "Accuracy: 0.67.\n",
    "Confusion Matrix:\n",
    "\n",
    "Class 0: 30 correctly classified, 2 misclassified as Class 1.\n",
    "Class 1: 10 correctly classified, 18 misclassified as Class 0."
   ]
  },
  {
   "cell_type": "markdown",
   "metadata": {},
   "source": [
    "# 7 Conclusions\n",
    "\n",
    "# Model Performance\n",
    "Support Vector Machine (SVM) Model:\n",
    "\n",
    "The SVM model achieved an overall accuracy of 62%.\n",
    "It showed better performance in identifying Class 0 (truthful) with a recall of 0.81, but struggled with Class 1 (deceptive) with a recall of only 0.39.\n",
    "The precision for Class 0 was 0.60 and for Class 1 was 0.65, indicating a moderate ability to correctly identify both classes.\n",
    "Random Forest Model:\n",
    "\n",
    "The Random Forest model outperformed the SVM model with an overall accuracy of 78%.\n",
    "It demonstrated balanced performance with high precision and recall for both classes, achieving a recall of 0.75 for Class 0 and 0.82 for Class 1.\n",
    "The precision for Class 0 was 0.83 and for Class 1 was 0.74, making it a robust model for both classes.\n",
    "Ensemble Model:\n",
    "\n",
    "The Ensemble model, combining SVM and Random Forest, achieved an overall accuracy of 67%.\n",
    "It performed exceptionally well in identifying Class 0 with a recall of 0.94, but its performance dropped significantly for Class 1 with a recall of 0.36.\n",
    "The precision for Class 0 was 0.62 and for Class 1 was 0.83, showing a bias towards identifying truthful instances more accurately.\n",
    "\n",
    "# Insights and Implications\n",
    "\n",
    "Feature Extraction and Data Augmentation: The use of Mel spectrograms for feature extraction and data augmentation techniques like adding noise and pitch shifting improved the robustness of the models. These steps are crucial for handling real-world audio data which can be noisy and varied.\n",
    "\n",
    "Model Selection:The Random Forest model proved to be the most effective in our experiments, providing a good balance between precision and recall for both classes. This suggests that Random Forest is well-suited for this type of classification problem, likely due to its ability to handle imbalanced datasets and capture complex patterns in the data.\n",
    "\n",
    "Ensemble Learning: While the Ensemble model provided a slight improvement over the SVM model, it did not outperform the Random Forest model. This indicates that combining models does not always guarantee better performance and highlights the importance of selecting strong individual models.\n",
    "\n",
    "# Conclusion\n",
    "\n",
    "In conclusion, our project successfully developed an audio-based lie detection model with promising results. The Random Forest model emerged as the most effective, but there is ample opportunity for further improvements and enhancements. By continuing to refine our methods and explore new techniques, we can move closer to achieving reliable and accurate lie detection systems for practical applications.\n"
   ]
  },
  {
   "cell_type": "markdown",
   "metadata": {},
   "source": [
    "# 8 References\n",
    "Librosa Library:\n",
    "\n",
    "McFee, B., Raffel, C., Liang, D., Ellis, D.P.W., McVicar, M., Battenberg, E., & Nieto, O. (2015). librosa: Audio and music signal analysis in python. In Proceedings of the 14th Python in Science Conference (pp. 18-25).\n",
    "Scikit-Learn Library:\n",
    "\n",
    "Pedregosa, F., Varoquaux, G., Gramfort, A., Michel, V., Thirion, B., Grisel, O., Blondel, M., Prettenhofer, P., Weiss, R., Dubourg, V., Vanderplas, J., Passos, A., Cournapeau, D., Brucher, M., Perrot, M., & Duchesnay, E. (2011). Scikit-learn: Machine learning in Python. Journal of Machine Learning Research, 12, 2825-2830.\n",
    "Data Augmentation Techniques:\n",
    "\n",
    "Ko, T., Peddinti, V., Povey, D., & Khudanpur, S. (2015). Audio augmentation for speech recognition. In Sixteenth Annual Conference of the International Speech Communication Association.\n",
    "Machine Learning Concepts:\n",
    "\n",
    "Bishop, C. M. (2006). Pattern Recognition and Machine Learning. Springer.\n",
    "Hastie, T., Tibshirani, R., & Friedman, J. (2009). The Elements of Statistical Learning: Data Mining, Inference, and Prediction. Springer.\n",
    "Ensemble Learning:\n",
    "\n",
    "Zhou, Z. H. (2012). Ensemble Methods: Foundations and Algorithms. Chapman and Hall/CRC.\n",
    "Audio Feature Extraction:\n",
    "\n",
    "Müller, M. (2015). Fundamentals of Music Processing: Audio, Analysis, Algorithms, Applications. Springer.\n",
    "Online Resources and Tutorials:\n",
    "\n",
    "Official documentation and tutorials for Librosa: https://librosa.org/doc/latest/index.html\n",
    "Scikit-Learn User Guide: https://scikit-learn.org/stable/user_guide.html\n",
    "GitHub Repositories:\n",
    "\n",
    "Example repositories related to audio processing and machine learning on GitHub."
   ]
  }
 ],
 "metadata": {
  "kernelspec": {
   "display_name": "pytorch",
   "language": "python",
   "name": "python3"
  },
  "language_info": {
   "codemirror_mode": {
    "name": "ipython",
    "version": 3
   },
   "file_extension": ".py",
   "mimetype": "text/x-python",
   "name": "python",
   "nbconvert_exporter": "python",
   "pygments_lexer": "ipython3",
   "version": "3.12.3"
  }
 },
 "nbformat": 4,
 "nbformat_minor": 2
}
